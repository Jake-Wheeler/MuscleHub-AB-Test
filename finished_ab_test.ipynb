{
 "cells": [
  {
   "cell_type": "markdown",
   "metadata": {},
   "source": [
    "# A/B Test for MuscleHub\n",
    "***"
   ]
  },
  {
   "cell_type": "markdown",
   "metadata": {},
   "source": [
    "## Introduction"
   ]
  },
  {
   "cell_type": "markdown",
   "metadata": {},
   "source": [
    "Like most businesses, Janet keeps her data in a SQL database. You have already downloaded the data from her database to a csv file, and will load it into a Jupyter Notebook using pandas to conduct A/B testing for the MuscleHub Gym."
   ]
  },
  {
   "cell_type": "markdown",
   "metadata": {},
   "source": [
    "Let's get started!"
   ]
  },
  {
   "cell_type": "markdown",
   "metadata": {},
   "source": [
    "## Import the dataset"
   ]
  },
  {
   "cell_type": "markdown",
   "metadata": {},
   "source": [
    "Janet of MuscleHub has a SQLite database, which contains several tables that will be helpful to you in this investigation. You have already created a csv file for each table.\n",
    "\n",
    "Import the four csv files as pandas DataFrames and examine them. "
   ]
  },
  {
   "cell_type": "code",
   "execution_count": 11,
   "metadata": {},
   "outputs": [
    {
     "data": {
      "text/html": [
       "<div>\n",
       "<style scoped>\n",
       "    .dataframe tbody tr th:only-of-type {\n",
       "        vertical-align: middle;\n",
       "    }\n",
       "\n",
       "    .dataframe tbody tr th {\n",
       "        vertical-align: top;\n",
       "    }\n",
       "\n",
       "    .dataframe thead th {\n",
       "        text-align: right;\n",
       "    }\n",
       "</style>\n",
       "<table border=\"1\" class=\"dataframe\">\n",
       "  <thead>\n",
       "    <tr style=\"text-align: right;\">\n",
       "      <th></th>\n",
       "      <th>first_name</th>\n",
       "      <th>last_name</th>\n",
       "      <th>email</th>\n",
       "      <th>gender</th>\n",
       "      <th>visit_date</th>\n",
       "    </tr>\n",
       "  </thead>\n",
       "  <tbody>\n",
       "    <tr>\n",
       "      <th>0</th>\n",
       "      <td>Karen</td>\n",
       "      <td>Manning</td>\n",
       "      <td>Karen.Manning@gmail.com</td>\n",
       "      <td>female</td>\n",
       "      <td>2017-05-01</td>\n",
       "    </tr>\n",
       "    <tr>\n",
       "      <th>1</th>\n",
       "      <td>Annette</td>\n",
       "      <td>Boone</td>\n",
       "      <td>AB9982@gmail.com</td>\n",
       "      <td>female</td>\n",
       "      <td>2017-05-01</td>\n",
       "    </tr>\n",
       "    <tr>\n",
       "      <th>2</th>\n",
       "      <td>Salvador</td>\n",
       "      <td>Merritt</td>\n",
       "      <td>SalvadorMerritt12@outlook.com</td>\n",
       "      <td>male</td>\n",
       "      <td>2017-05-01</td>\n",
       "    </tr>\n",
       "    <tr>\n",
       "      <th>3</th>\n",
       "      <td>Martha</td>\n",
       "      <td>Maxwell</td>\n",
       "      <td>Martha.Maxwell@gmail.com</td>\n",
       "      <td>female</td>\n",
       "      <td>2017-05-01</td>\n",
       "    </tr>\n",
       "    <tr>\n",
       "      <th>4</th>\n",
       "      <td>Andre</td>\n",
       "      <td>Mayer</td>\n",
       "      <td>AndreMayer90@gmail.com</td>\n",
       "      <td>male</td>\n",
       "      <td>2017-05-01</td>\n",
       "    </tr>\n",
       "  </tbody>\n",
       "</table>\n",
       "</div>"
      ],
      "text/plain": [
       "  first_name last_name                          email  gender visit_date\n",
       "0      Karen   Manning        Karen.Manning@gmail.com  female 2017-05-01\n",
       "1    Annette     Boone               AB9982@gmail.com  female 2017-05-01\n",
       "2   Salvador   Merritt  SalvadorMerritt12@outlook.com    male 2017-05-01\n",
       "3     Martha   Maxwell       Martha.Maxwell@gmail.com  female 2017-05-01\n",
       "4      Andre     Mayer         AndreMayer90@gmail.com    male 2017-05-01"
      ]
     },
     "execution_count": 11,
     "metadata": {},
     "output_type": "execute_result"
    }
   ],
   "source": [
    "import pandas as pd\n",
    "import matplotlib.pyplot as plt\n",
    "visits = pd.read_csv('visits.csv', parse_dates=['visit_date'])\n",
    "applications = pd.read_csv('applications.csv')\n",
    "fitness_tests = pd.read_csv('fitness_tests.csv')\n",
    "purchases = pd.read_csv('purchases.csv')\n",
    "\n",
    "visits.head()\n",
    "\n",
    "\n"
   ]
  },
  {
   "cell_type": "markdown",
   "metadata": {},
   "source": [
    "## Join all of your data"
   ]
  },
  {
   "cell_type": "markdown",
   "metadata": {},
   "source": [
    "It would be helpful to have a single DataFrame with all of this data. \n",
    "\n",
    "Create a DataFrame containing all of this data. Keep in mind that not all visits in **visits.csv** occurred during the A/B test. You’ll only want to pull data where `visit_date` is on or after 7-1-17.\n",
    "\n",
    "\n",
    "You'll need the following columns:\n",
    "\n",
    "* `visits.first_name`\n",
    "* `visits.last_name`\n",
    "* `visits.gender`\n",
    "* `visits.email`\n",
    "* `visits.visit_date`\n",
    "* `fitness_tests.fitness_test_date`\n",
    "* `applications.application_date`\n",
    "* `purchases.purchase_date`"
   ]
  },
  {
   "cell_type": "code",
   "execution_count": 12,
   "metadata": {},
   "outputs": [
    {
     "data": {
      "text/html": [
       "<div>\n",
       "<style scoped>\n",
       "    .dataframe tbody tr th:only-of-type {\n",
       "        vertical-align: middle;\n",
       "    }\n",
       "\n",
       "    .dataframe tbody tr th {\n",
       "        vertical-align: top;\n",
       "    }\n",
       "\n",
       "    .dataframe thead th {\n",
       "        text-align: right;\n",
       "    }\n",
       "</style>\n",
       "<table border=\"1\" class=\"dataframe\">\n",
       "  <thead>\n",
       "    <tr style=\"text-align: right;\">\n",
       "      <th></th>\n",
       "      <th>first_name</th>\n",
       "      <th>last_name</th>\n",
       "      <th>email</th>\n",
       "      <th>gender</th>\n",
       "      <th>visit_date</th>\n",
       "      <th>fitness_test_date</th>\n",
       "      <th>application_date</th>\n",
       "      <th>purchase_date</th>\n",
       "    </tr>\n",
       "  </thead>\n",
       "  <tbody>\n",
       "    <tr>\n",
       "      <th>0</th>\n",
       "      <td>Kim</td>\n",
       "      <td>Walter</td>\n",
       "      <td>KimWalter58@gmail.com</td>\n",
       "      <td>female</td>\n",
       "      <td>2017-07-01</td>\n",
       "      <td>2017-07-03</td>\n",
       "      <td>NaN</td>\n",
       "      <td>NaN</td>\n",
       "    </tr>\n",
       "    <tr>\n",
       "      <th>1</th>\n",
       "      <td>Tom</td>\n",
       "      <td>Webster</td>\n",
       "      <td>TW3857@gmail.com</td>\n",
       "      <td>male</td>\n",
       "      <td>2017-07-01</td>\n",
       "      <td>2017-07-02</td>\n",
       "      <td>NaN</td>\n",
       "      <td>NaN</td>\n",
       "    </tr>\n",
       "    <tr>\n",
       "      <th>2</th>\n",
       "      <td>Edward</td>\n",
       "      <td>Bowen</td>\n",
       "      <td>Edward.Bowen@gmail.com</td>\n",
       "      <td>male</td>\n",
       "      <td>2017-07-01</td>\n",
       "      <td>NaN</td>\n",
       "      <td>2017-07-04</td>\n",
       "      <td>2017-07-04</td>\n",
       "    </tr>\n",
       "    <tr>\n",
       "      <th>3</th>\n",
       "      <td>Marcus</td>\n",
       "      <td>Bauer</td>\n",
       "      <td>Marcus.Bauer@gmail.com</td>\n",
       "      <td>male</td>\n",
       "      <td>2017-07-01</td>\n",
       "      <td>2017-07-01</td>\n",
       "      <td>2017-07-03</td>\n",
       "      <td>2017-07-05</td>\n",
       "    </tr>\n",
       "    <tr>\n",
       "      <th>4</th>\n",
       "      <td>Roberta</td>\n",
       "      <td>Best</td>\n",
       "      <td>RB6305@hotmail.com</td>\n",
       "      <td>female</td>\n",
       "      <td>2017-07-01</td>\n",
       "      <td>2017-07-02</td>\n",
       "      <td>NaN</td>\n",
       "      <td>NaN</td>\n",
       "    </tr>\n",
       "  </tbody>\n",
       "</table>\n",
       "</div>"
      ],
      "text/plain": [
       "  first_name last_name                   email  gender visit_date  \\\n",
       "0        Kim    Walter   KimWalter58@gmail.com  female 2017-07-01   \n",
       "1        Tom   Webster        TW3857@gmail.com    male 2017-07-01   \n",
       "2     Edward     Bowen  Edward.Bowen@gmail.com    male 2017-07-01   \n",
       "3     Marcus     Bauer  Marcus.Bauer@gmail.com    male 2017-07-01   \n",
       "4    Roberta      Best      RB6305@hotmail.com  female 2017-07-01   \n",
       "\n",
       "  fitness_test_date application_date purchase_date  \n",
       "0        2017-07-03              NaN           NaN  \n",
       "1        2017-07-02              NaN           NaN  \n",
       "2               NaN       2017-07-04    2017-07-04  \n",
       "3        2017-07-01       2017-07-03    2017-07-05  \n",
       "4        2017-07-02              NaN           NaN  "
      ]
     },
     "execution_count": 12,
     "metadata": {},
     "output_type": "execute_result"
    }
   ],
   "source": [
    "# Merging all files to create a full profile for people after 7-1-17\n",
    "visits_in_test = visits.loc[visits.visit_date >= '2017-7-1']\n",
    "all_data = pd.merge(visits_in_test, fitness_tests, how='left')\\\n",
    ".merge(applications, how='left').merge(purchases, how='left')\n",
    "all_data.head()"
   ]
  },
  {
   "cell_type": "markdown",
   "metadata": {},
   "source": [
    "## Visualize the Groups"
   ]
  },
  {
   "cell_type": "markdown",
   "metadata": {},
   "source": [
    "Having compiled the DataFrame we can use to begin our project.\n",
    "\n",
    "Make at least one visualization that depicts the distribution of potential customers that were given a fitness test and those that were not:\n",
    "- Create a bar plot of the test group variable's distribution.\n",
    "- Create a pie cart using `plt.pie()`."
   ]
  },
  {
   "cell_type": "code",
   "execution_count": 13,
   "metadata": {},
   "outputs": [
    {
     "data": {
      "image/png": "[encoded data removed]",
      "text/plain": [
       "<Figure size 432x288 with 1 Axes>"
      ]
     },
     "metadata": {},
     "output_type": "display_data"
    }
   ],
   "source": [
    "# Simply taking all visitors and deviding them into two groups, based on if they did a fitness test.\n",
    "given_test = all_data[all_data.fitness_test_date.notnull()]\n",
    "not_given_test = all_data[all_data.fitness_test_date.isnull()]\n",
    "\n",
    "plt.pie([len(given_test), len(not_given_test)], labels=['Given Test', 'Not Given Test'], \\\n",
    "        autopct='%0.1f%%')\n",
    "plt.title('Of {} visitors'.format(str(len(all_data))))\n",
    "plt.show()"
   ]
  },
  {
   "cell_type": "markdown",
   "metadata": {},
   "source": [
    "## Determine the count of applications"
   ]
  },
  {
   "cell_type": "markdown",
   "metadata": {},
   "source": [
    "Recall that the sign-up process for MuscleHub has several steps:\n",
    "\n",
    "1. Take a fitness test with a personal trainer (only Group A).\n",
    "2. Fill out an application for the gym.\n",
    "3. Send in their payment for their first month's membership.\n",
    "\n",
    "Determine the percentage of people in each group who complete Step 2, filling out an application."
   ]
  },
  {
   "cell_type": "code",
   "execution_count": 51,
   "metadata": {},
   "outputs": [
    {
     "data": {
      "image/png": "[encoded data removed]",
      "text/plain": [
       "<Figure size 360x288 with 2 Axes>"
      ]
     },
     "metadata": {
      "needs_background": "light"
     },
     "output_type": "display_data"
    },
    {
     "data": {
      "text/plain": [
       "575"
      ]
     },
     "execution_count": 51,
     "metadata": {},
     "output_type": "execute_result"
    }
   ],
   "source": [
    "# Visual comparison of who actually decided to pick up an applicaation.\n",
    "# Of 575 people who picked up an application, 43.5% did a fitness test and 56.5% did not.\n",
    "tested_and_app = given_test[given_test.application_date.notnull()]\n",
    "notest_and_app = not_given_test[not_given_test.application_date.notnull()]\n",
    "null_apps = [(len(all_data) - len(tested_and_app)), (len(all_data) - len(notest_and_app))]\n",
    "apps = [len(tested_and_app), len(notest_and_app)]\n",
    "\n",
    "plt.figure(figsize=(5,4))\n",
    "plt.subplot(1,2,1)\n",
    "plt.bar(range(len(null_apps)), null_apps)\n",
    "plt.bar(range(len(apps)), apps, bottom=null_apps)\n",
    "plt.legend([\"Didn't Pick Up an Appication\", \"Picked Up Application\"], fontsize=7)\n",
    "plt.title('575 People Picked Up an Application')\n",
    "\n",
    "ap = plt.subplot(1,2,1)\n",
    "ap.set_xticks(range(2))\n",
    "ap.set_xticklabels(['Given Test', 'Not Given Test'], fontsize=8)\n",
    "ap.set_yticks([2000, 4000, 4500, 5000])\n",
    "\n",
    "plt.subplot(1,2,2)\n",
    "plt.pie([len(all_data[all_data.application_date.isnull()]), len(tested_and_app), \\\n",
    "         len(notest_and_app)], labels=['No Application', 'Test/Application', \\\n",
    "                                       'No Test/Applicaton'], \\\n",
    "        autopct='%0.1f%%', textprops={'fontsize': 7})\n",
    "plt.title('5,000 visitors')\n",
    "plt.subplots_adjust(wspace=.6)\n",
    "\n",
    "plt.show()\n",
    "len(tested_and_app) + len(notest_and_app)"
   ]
  },
  {
   "cell_type": "markdown",
   "metadata": {},
   "source": [
    "It looks like more people from Group B turned in an application.  Why might that be?\n",
    "\n",
    "We need to know if this difference is statistically significant."
   ]
  },
  {
   "cell_type": "markdown",
   "metadata": {},
   "source": [
    "## Calculate the statistical significance of applications"
   ]
  },
  {
   "cell_type": "markdown",
   "metadata": {},
   "source": [
    "Having calculated the difference in who turned in an application between groups, determine if this difference is statistically significant."
   ]
  },
  {
   "cell_type": "code",
   "execution_count": 52,
   "metadata": {
    "ExecuteTime": {
     "end_time": "2020-12-22T14:33:53.467891Z",
     "start_time": "2020-12-22T14:33:53.462100Z"
    }
   },
   "outputs": [
    {
     "data": {
      "image/png": "[encoded data removed]",
      "text/plain": [
       "<Figure size 360x288 with 1 Axes>"
      ]
     },
     "metadata": {
      "needs_background": "light"
     },
     "output_type": "display_data"
    }
   ],
   "source": [
    "# With not a lot of subjective imformation given, the main difference is going to come from gender.\n",
    "tested_app_men = tested_and_app[tested_and_app.gender == 'male']\n",
    "notest_app_men = notest_and_app[notest_and_app.gender == 'male']\n",
    "tested_app_women = tested_and_app[tested_and_app.gender == 'female']\n",
    "notest_app_women = notest_and_app[notest_and_app.gender == 'female']\n",
    "\n",
    "# This function returns a compressed list of x ticks for bars to be placed side by side\n",
    "# n = The dataset we're on\n",
    "# t = Number of datasets\n",
    "# d = Number of sets of bars\n",
    "# w = Width of each bar\n",
    "def create_x(t, w, n, d):\n",
    "    return [t*x + w*n for x in range(d)]\n",
    "\n",
    "men_x = create_x(2, .8, 1, 2)\n",
    "women_x = create_x(2, .8, 2, 2)\n",
    "men_women_x = [(a + b) / 2.0 for a, b in zip(men_x, women_x)]\n",
    "\n",
    "men_app = [len(tested_app_men), len(notest_app_men)]\n",
    "women_app = [len(tested_app_women), len(notest_app_women)]\n",
    "\n",
    "\n",
    "plt.figure(figsize=(5,4))\n",
    "plt.bar(men_x, men_app)\n",
    "plt.bar(women_x, women_app)\n",
    "\n",
    "applic = plt.subplot(1,1,1)\n",
    "applic.set_xticks(men_women_x)\n",
    "applic.set_xticklabels(['Given a Fitness Test', 'Just Visited'])\n",
    "plt.ylabel('Applications Picked Up')\n",
    "plt.title('Men vs Women')\n",
    "plt.legend(['Men', 'Women'])\n",
    "\n",
    "# Not getting tested definitly makes a difference overall, but seems to have a much more \n",
    "# drastic difference on women than men\n",
    "plt.show()"
   ]
  },
  {
   "cell_type": "markdown",
   "metadata": {},
   "source": [
    "## Detemine the count of memberships from applications"
   ]
  },
  {
   "cell_type": "markdown",
   "metadata": {},
   "source": [
    "Of those who picked up an application, how many purchased a membership?\n",
    "\n",
    "Determine how many potential customers purchased a membership out of those that picked up an application.\n",
    "\n",
    "It looks like people who took the fitness test were more likely to purchase a membership if they picked up an application. Why might that be?"
   ]
  },
  {
   "cell_type": "code",
   "execution_count": 53,
   "metadata": {},
   "outputs": [
    {
     "data": {
      "image/png": "[encoded data removed]",
      "text/plain": [
       "<Figure size 432x288 with 1 Axes>"
      ]
     },
     "metadata": {},
     "output_type": "display_data"
    },
    {
     "data": {
      "text/plain": [
       "450"
      ]
     },
     "execution_count": 53,
     "metadata": {},
     "output_type": "execute_result"
    }
   ],
   "source": [
    "# 450 people that picked up those applications followed through and signed up.\n",
    "tested_and_purchased = tested_and_app[tested_and_app.purchase_date.notnull()]\n",
    "notest_and_purchased = notest_and_app[notest_and_app.purchase_date.notnull()]\n",
    "plt.pie([len(tested_and_purchased), len(notest_and_purchased)], autopct='%0.1f%%')\n",
    "plt.title('People That Signed Up')\n",
    "plt.legend(['Given Test', 'Not Given Test'])\n",
    "plt.show()\n",
    "len(tested_and_purchased) + len(notest_and_purchased)"
   ]
  },
  {
   "cell_type": "markdown",
   "metadata": {},
   "source": [
    "## Calculate the statistical significance of memberships"
   ]
  },
  {
   "cell_type": "markdown",
   "metadata": {
    "ExecuteTime": {
     "end_time": "2020-12-22T14:22:22.296025Z",
     "start_time": "2020-12-22T14:22:22.284482Z"
    }
   },
   "source": [
    "Calculate if the difference between the following groups is statistically significant: \n",
    "- The customers that picked up an application and took a fitness test.\n",
    "- The customers that did not take a fitness test and picked up an application."
   ]
  },
  {
   "cell_type": "code",
   "execution_count": 54,
   "metadata": {},
   "outputs": [
    {
     "data": {
      "image/png": "[encoded data removed]",
      "text/plain": [
       "<Figure size 360x288 with 1 Axes>"
      ]
     },
     "metadata": {
      "needs_background": "light"
     },
     "output_type": "display_data"
    }
   ],
   "source": [
    "# Same comparison between men and women but with who actually followed through, with women\n",
    "# still having a much more drastic change not being given a test\n",
    "tested_purchased_men = tested_and_purchased[tested_and_purchased.gender == 'male']\n",
    "notest_purchased_men = notest_and_purchased[notest_and_purchased.gender == 'male']\n",
    "tested_purchased_women = tested_and_purchased[tested_and_purchased.gender == 'female']\n",
    "notest_purchased_women = notest_and_purchased[notest_and_purchased.gender == 'female']\n",
    "\n",
    "men_purchases = [len(tested_purchased_men), len(notest_purchased_men)]\n",
    "women_purchases = [len(tested_purchased_women), len(notest_purchased_women)]\n",
    "\n",
    "plt.figure(figsize=(5,4))\n",
    "plt.bar(men_x, men_purchases)\n",
    "plt.bar(women_x, women_purchases)\n",
    "plt.title('Men vs Women Who Purchased')\n",
    "plt.legend(['Men', 'Women'])\n",
    "\n",
    "member = plt.subplot(1,1,1)\n",
    "member.set_xticks(men_women_x)\n",
    "member.set_xticklabels(['Given Test', 'Not Given Test'])\n",
    "plt.ylabel('Picked Up Application')\n",
    "\n",
    "\n",
    "plt.show()"
   ]
  },
  {
   "cell_type": "markdown",
   "metadata": {},
   "source": [
    "# Detemine the count of all memberships"
   ]
  },
  {
   "cell_type": "markdown",
   "metadata": {},
   "source": [
    "Previously, you looked at what percentage of people who picked up applications purchased memberships. \n",
    "\n",
    "Now, determine what percentage of ALL visitors purchased memberships. "
   ]
  },
  {
   "cell_type": "code",
   "execution_count": 55,
   "metadata": {},
   "outputs": [
    {
     "data": {
      "image/png": "[encoded data removed]",
      "text/plain": [
       "<Figure size 432x288 with 1 Axes>"
      ]
     },
     "metadata": {},
     "output_type": "display_data"
    }
   ],
   "source": [
    "# Only 9% of visitors coming in are actually signing up.\n",
    "visitors_purchased = all_data[all_data.purchase_date.notnull()]\n",
    "visitors_no_purchase = all_data[all_data.purchase_date.isnull()]\n",
    "plt.pie([len(visitors_purchased), len(visitors_no_purchase)], autopct='%0.1f%%')\n",
    "plt.title('Percent of Visitors That Purchased')\n",
    "plt.legend(['Purchased', 'No Purchase'])\n",
    "\n",
    "plt.show()\n"
   ]
  },
  {
   "cell_type": "markdown",
   "metadata": {},
   "source": [
    "## Calculate the statistical significance between groups"
   ]
  },
  {
   "cell_type": "markdown",
   "metadata": {},
   "source": [
    "Determine if there is a significant difference in memberships between Group A and Group B."
   ]
  },
  {
   "cell_type": "code",
   "execution_count": 60,
   "metadata": {},
   "outputs": [
    {
     "data": {
      "image/png": "[encoded data removed]",
      "text/plain": [
       "<Figure size 360x288 with 1 Axes>"
      ]
     },
     "metadata": {
      "needs_background": "light"
     },
     "output_type": "display_data"
    }
   ],
   "source": [
    "# Sign up difference between those who took a fitness test and those who didn't.\n",
    "\n",
    "purch_vis_test = visitors_purchased[visitors_purchased.fitness_test_date.notnull()]\n",
    "purch_vis = visitors_purchased[visitors_purchased.fitness_test_date.isnull()]\n",
    "\n",
    "p_lst = [len(purch_vis_test), len(purch_vis)]\n",
    "\n",
    "plt.figure(figsize=(5,4))\n",
    "plt.bar(range(2), p_lst)\n",
    "plt.title('Group A vs Group B')\n",
    "plt.ylabel('Amount Signed Up')\n",
    "\n",
    "pfig = plt.subplot(111)\n",
    "pfig.set_xticks(range(2))\n",
    "pfig.set_xticklabels(['Given Test', 'Not Given Test'])\n",
    "\n",
    "plt.show()"
   ]
  },
  {
   "cell_type": "markdown",
   "metadata": {},
   "source": [
    "## Visualize the results"
   ]
  },
  {
   "cell_type": "markdown",
   "metadata": {},
   "source": [
    "Create visualizations for Janet that show the difference between Group A (people who were given the fitness test) and Group B (people who were not given the fitness test) at each state of the process:\n",
    "\n",
    "- Percent of visitors who apply.\n",
    "- Percent of applicants who purchase a membership.\n",
    "- Percent of visitors who purchase a membership."
   ]
  },
  {
   "cell_type": "code",
   "execution_count": 108,
   "metadata": {},
   "outputs": [
    {
     "data": {
      "image/png": "[encoded data removed]",
      "text/plain": [
       "<Figure size 864x576 with 5 Axes>"
      ]
     },
     "metadata": {
      "needs_background": "light"
     },
     "output_type": "display_data"
    }
   ],
   "source": [
    "# We see a clear difference showing that letting people just join themselves proves to be more\n",
    "# effective vs testing them first, although on a side note, men seem more inclined to take commit\n",
    "# when given a fitness test.\n",
    "plt.figure(figsize=(12,8))\n",
    "\n",
    "test_x = create_x(2, .8, 1, 3)\n",
    "notest_x = create_x(2, .8, 2, 3)\n",
    "test_notest_x = [(a + b) / 2.0 for a, b in zip(test_x, notest_x)]\n",
    "men_visited = all_data[all_data.gender == 'male']\n",
    "women_visited = all_data[all_data.gender == 'female']\n",
    "men_applied = men_visited[men_visited.application_date.notnull()]\n",
    "women_applied = women_visited[women_visited.application_date.notnull()]\n",
    "men_purch = men_visited[men_visited.purchase_date.notnull()]\n",
    "women_purch = women_visited[women_visited.purchase_date.notnull()]\n",
    "app_nopurchs = len(all_data[all_data.application_date.notnull()]) - len(all_data[all_data.purchase_date.notnull()])\n",
    "\n",
    "def tested(x):\n",
    "    return x[x.fitness_test_date.notnull()]\n",
    "def notest(x):\n",
    "    return x[x.fitness_test_date.isnull()]\n",
    "\n",
    "# bar chart of men who tested/didn't test and visited, applied, purchased\n",
    "plt.subplot(221)\n",
    "plt.bar(test_x, [len(tested(men_visited)), len(tested(men_applied)), len(tested(men_purch))])\n",
    "plt.bar(notest_x, [len(notest(men_visited)), len(notest(men_applied)), len(notest(men_purch))])\n",
    "plt.legend(['Given Test', 'Not Given Test'])\n",
    "plt.title('Men')\n",
    "\n",
    "a = plt.subplot(221)\n",
    "a.set_xticks(test_notest_x)\n",
    "a.set_xticklabels(['Visited', 'Picked Up Application', 'Signed Up'])\n",
    "\n",
    "# bar chart  of women who tested/didn't test and visited, applied, purchased\n",
    "plt.subplot(222)\n",
    "plt.bar(test_x, [len(tested(women_visited)), len(tested(women_applied)), len(tested(women_purch))])\n",
    "plt.bar(notest_x, [len(notest(women_visited)), len(notest(women_applied)), len(notest(women_purch))])\n",
    "plt.legend(['Given Test', 'Not Given Test'])\n",
    "plt.title('Women')\n",
    "\n",
    "b = plt.subplot(222)\n",
    "b.set_xticks(test_notest_x)\n",
    "b.set_xticklabels(['Visited', 'Picked Up Application', 'Signed Up'])\n",
    "\n",
    "# pie chart of visitors who applied\n",
    "plt.subplot(234)\n",
    "plt.pie([len(all_data[all_data.application_date.isnull()]), \\\n",
    "         len(all_data[all_data.application_date.notnull()])], autopct='%0.1f%%')\n",
    "plt.title('Visitors That Applied')\n",
    "plt.legend(['Just Visit', 'Visit/Application'])\n",
    "\n",
    "# pie chart of aplicants who purchased\n",
    "plt.subplot(235)\n",
    "plt.pie([app_nopurchs, len(all_data[all_data.purchase_date.notnull()])], autopct='%0.1f%%')\n",
    "plt.title('Applicants That Purchased')\n",
    "plt.legend(['No Purchase', 'Purchase'])\n",
    "\n",
    "# pie chart of visitors who purchased\n",
    "plt.subplot(236)\n",
    "plt.pie([len(all_data[all_data.purchase_date.isnull()]), \\\n",
    "         len(all_data[all_data.purchase_date.notnull()])], autopct='%0.1f%%')\n",
    "plt.title('Visitors That Purchased')\n",
    "plt.legend(['Just Visited', 'Purchased'])\n",
    "\n",
    "plt.subplots_adjust(bottom=.05)\n",
    "plt.show()"
   ]
  },
  {
   "cell_type": "markdown",
   "metadata": {},
   "source": [
    "## Congratulations!!"
   ]
  },
  {
   "cell_type": "markdown",
   "metadata": {},
   "source": [
    "Congratulations, your work has been a valuable contribution for Janet to determine MuscleHub's membership process. Janet asks if you would also help her share your work with a presentation. "
   ]
  },
  {
   "cell_type": "markdown",
   "metadata": {},
   "source": [
    "## Challenge Assignment"
   ]
  },
  {
   "cell_type": "markdown",
   "metadata": {},
   "source": [
    "- Develop a presentation that demonstrates your findings to Janet. She has decided that your recommendation will determine if potential customers should take a fitness test as a component of their application. Your presentation should include the following:\n",
    "    - A title slide\n",
    "    - A description of what happened in this A/B test\n",
    "    - A summary of your dataset and any information you think would be helpful background\n",
    "    - The results of the three hypothesis tests that you ran, including an explanation of the type of test that you used and why it was appropriate\n",
    "    - A summary of the qualitative data\n",
    "    - A recommendation for MuscleHub\n",
    "\n",
    "- Create a [wordcloud](https://pypi.org/project/wordcloud/) visualization that Janet can use to create an ad for the MuscleHub Gym with the data in `interviews.txt`. "
   ]
  },
  {
   "cell_type": "code",
   "execution_count": null,
   "metadata": {},
   "outputs": [],
   "source": []
  }
 ],
 "metadata": {
  "kernelspec": {
   "display_name": "Python 3 (ipykernel)",
   "language": "python",
   "name": "python3"
  },
  "language_info": {
   "codemirror_mode": {
    "name": "ipython",
    "version": 3
   },
   "file_extension": ".py",
   "mimetype": "text/x-python",
   "name": "python",
   "nbconvert_exporter": "python",
   "pygments_lexer": "ipython3",
   "version": "3.10.2"
  },
  "toc": {
   "base_numbering": 1,
   "nav_menu": {},
   "number_sections": true,
   "sideBar": true,
   "skip_h1_title": false,
   "title_cell": "Table of Contents",
   "title_sidebar": "Contents",
   "toc_cell": false,
   "toc_position": {},
   "toc_section_display": true,
   "toc_window_display": false
  }
 },
 "nbformat": 4,
 "nbformat_minor": 2
}
